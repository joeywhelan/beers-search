{
 "cells": [
  {
   "cell_type": "markdown",
   "metadata": {},
   "source": [
    "# Redis Normalized Data Transformation"
   ]
  },
  {
   "cell_type": "markdown",
   "metadata": {},
   "source": [
    "## Install Necessary Modules"
   ]
  },
  {
   "cell_type": "code",
   "execution_count": null,
   "metadata": {
    "vscode": {
     "languageId": "shellscript"
    }
   },
   "outputs": [],
   "source": [
    "!pip install redis"
   ]
  },
  {
   "cell_type": "markdown",
   "metadata": {},
   "source": [
    "## Start Redis Stack Container"
   ]
  },
  {
   "cell_type": "code",
   "execution_count": null,
   "metadata": {
    "vscode": {
     "languageId": "shellscript"
    }
   },
   "outputs": [],
   "source": [
    "!docker compose up -d"
   ]
  },
  {
   "cell_type": "markdown",
   "metadata": {},
   "source": [
    "## Establish Redis Client Connectivity"
   ]
  },
  {
   "cell_type": "code",
   "execution_count": null,
   "metadata": {},
   "outputs": [],
   "source": [
    "import csv\n",
    "import redis\n",
    "from redis.commands.search.field import NumericField, TagField, TextField\n",
    "from redis.commands.search.indexDefinition import IndexDefinition, IndexType\n",
    "from redis.commands.search.aggregation import AggregateRequest, Desc\n",
    "from redis.commands.search.query import Query\n",
    "from time import perf_counter\n",
    "import json\n",
    "\n",
    "client = redis.Redis(\n",
    "    host='localhost',\n",
    "    port=6379,\n",
    "    username='',\n",
    "    password=''\n",
    ")\n",
    "client.flushdb()\n",
    "client.ping()"
   ]
  },
  {
   "cell_type": "markdown",
   "metadata": {},
   "source": [
    "## Create Redis Index"
   ]
  },
  {
   "cell_type": "code",
   "execution_count": null,
   "metadata": {},
   "outputs": [],
   "source": [
    "idx_def = IndexDefinition(index_type=IndexType.JSON, prefix=['brewery:', 'beer:'])\n",
    "schema = [\n",
    "    TagField('$.city', as_name=\"city\"),\n",
    "    TagField('$.state', as_name=\"state\"),\n",
    "    NumericField('$.beers[*].abv', as_name='abv'),\n",
    "    NumericField('$.beers[*].ibu', as_name='ibu')\n",
    "]\n",
    "client.ft('beer_idx').create_index(schema, definition=idx_def)\n",
    "\n"
   ]
  },
  {
   "cell_type": "markdown",
   "metadata": {},
   "source": [
    "## Load Data"
   ]
  },
  {
   "cell_type": "code",
   "execution_count": null,
   "metadata": {},
   "outputs": [],
   "source": [
    "pipe = client.pipeline(transaction=False)\n",
    "num_breweries = 0\n",
    "with open('./data/breweries.csv', mode='r') as file:\n",
    "    breweries = csv.DictReader(file)\n",
    "    for brewery in breweries:\n",
    "        brewery['beers'] = []\n",
    "        key = f'brewery:{brewery[\"brewery_id\"]}'\n",
    "        pipe.json().set(key, '$', brewery)\n",
    "        num_breweries += 1\n",
    "pipe.execute()\n",
    "\n",
    "num_beers = 0\n",
    "with open('./data/beers.csv', mode='r') as file:\n",
    "    beers = csv.DictReader(file)\n",
    "    for beer in beers:\n",
    "        key = f'brewery:{beer[\"brewery_id\"]}'\n",
    "        del beer[\"brewery_id\"]\n",
    "        try:\n",
    "            beer['abv'] = round(float(beer['abv']),3)\n",
    "        except ValueError:\n",
    "            pass\n",
    "        try:\n",
    "            beer['ibu'] = round(float(beer['ibu']),1)\n",
    "        except ValueError:\n",
    "            pass\n",
    "        pipe.json().arrappend(key, '$.beers', beer)\n",
    "        num_beers += 1 \n",
    "pipe.execute()\n",
    "\n",
    "print(f'{num_breweries} breweries loaded.')\n",
    "print(f'{num_beers} beers loaded.')"
   ]
  },
  {
   "cell_type": "markdown",
   "metadata": {},
   "source": [
    "## Scenario 1\n",
    "### Find all beers sold for a known brewery ID"
   ]
  },
  {
   "cell_type": "code",
   "execution_count": null,
   "metadata": {},
   "outputs": [],
   "source": [
    "brewery_id = 525\n",
    "t1 = perf_counter()\n",
    "results = client.json().get(f'brewery:{brewery_id}', '$.beers')\n",
    "t2 = perf_counter()\n",
    "print(f'Exec time: {round((t2-t1)*1000,2)} ms')\n",
    "print(json.dumps(results, indent=2))"
   ]
  },
  {
   "cell_type": "markdown",
   "metadata": {},
   "source": [
    "## Scenario 2\n",
    "### Find the names of 4 beers sold in the state of Missouri"
   ]
  },
  {
   "cell_type": "code",
   "execution_count": null,
   "metadata": {},
   "outputs": [],
   "source": [
    "state = 'MO'\n",
    "query = Query(f'(@state:{{{state}}})')\\\n",
    "        .return_field('$.beers[*].name', as_field=\"beer_name\")\\\n",
    "        .paging(0,4)\n",
    "t1 = perf_counter()\n",
    "results = client.ft('beer_idx').search(query)\n",
    "t2 = perf_counter()\n",
    "print(f'Exec time: {round((t2-t1)*1000,2)} ms')\n",
    "names = []\n",
    "for doc in results.docs:\n",
    "    names.append(doc.beer_name)\n",
    "print(json.dumps(names, indent=2))"
   ]
  },
  {
   "cell_type": "markdown",
   "metadata": {},
   "source": [
    "## Scenario 3\n",
    "### Find the beers sold in Denver with an ABV greater than or equal to 6% and IBU greater than or equal to 60"
   ]
  },
  {
   "cell_type": "code",
   "execution_count": null,
   "metadata": {},
   "outputs": [],
   "source": [
    "city = 'Denver'\n",
    "abv = '0.06'\n",
    "ibu = '60.0'\n",
    "\n",
    "request = AggregateRequest(f'@city:{{{city}}} @abv:[{abv} +inf] @ibu:[{ibu} +inf]')\\\n",
    ".load(f'$.beers[?(@.abv>={abv} && @.ibu>={ibu})]')\n",
    "t1 = perf_counter()\n",
    "results = client.ft('beer_idx').aggregate(request)\n",
    "t2 = perf_counter()\n",
    "print(f'Exec time: {round((t2-t1)*1000,2)} ms')\n",
    "\n",
    "beers = []\n",
    "for row in results.rows:\n",
    "    beers.append(json.loads(row[1]))\n",
    "print(json.dumps(beers, indent=2))\n"
   ]
  },
  {
   "cell_type": "markdown",
   "metadata": {},
   "source": [
    "## Shut Down Redis Stack Container"
   ]
  },
  {
   "cell_type": "code",
   "execution_count": null,
   "metadata": {
    "vscode": {
     "languageId": "shellscript"
    }
   },
   "outputs": [],
   "source": [
    "!docker compose down"
   ]
  }
 ],
 "metadata": {
  "kernelspec": {
   "display_name": ".venv",
   "language": "python",
   "name": "python3"
  },
  "language_info": {
   "codemirror_mode": {
    "name": "ipython",
    "version": 3
   },
   "file_extension": ".py",
   "mimetype": "text/x-python",
   "name": "python",
   "nbconvert_exporter": "python",
   "pygments_lexer": "ipython3",
   "version": "3.10.12"
  }
 },
 "nbformat": 4,
 "nbformat_minor": 2
}
